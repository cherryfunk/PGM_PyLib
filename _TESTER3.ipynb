{
 "cells": [
  {
   "cell_type": "code",
   "execution_count": 152,
   "metadata": {},
   "outputs": [],
   "source": [
    "import numpy as np\n",
    "import itertools as it\n",
    "from itertools import product\n",
    "\n",
    "from scipy.optimize import dual_annealing\n",
    "from wrapdisc import Objective\n",
    "from wrapdisc.var import ChoiceVar\n",
    "import operator\n",
    "\n",
    "import pandas as pd"
   ]
  },
  {
   "cell_type": "code",
   "execution_count": 4,
   "metadata": {},
   "outputs": [],
   "source": [
    "# Function to generate random probability distributions for bounding boxes\n",
    "def generate_random_probabilities(num_boxes, num_states):\n",
    "    \"\"\"\n",
    "    Generate random probability distributions for each bounding box.\n",
    "    \n",
    "    Parameters:\n",
    "    - num_boxes: int, number of bounding boxes\n",
    "    - num_states: int, number of states (e.g., \"tree\", \"glass\", \"car\", \"cup\")\n",
    "\n",
    "    Returns:\n",
    "    - numpy array of shape (num_boxes, num_states), where each row is a\n",
    "      probability distribution over the states for a bounding box.\n",
    "    \"\"\"\n",
    "    probabilities = np.random.rand(num_boxes, num_states)  # Generate random values\n",
    "    probabilities /= probabilities.sum(axis=1, keepdims=True)  # Normalize each row to sum to 1\n",
    "    return probabilities\n",
    "\n",
    "# Generate the 4x4 relational probability matrix (for the 4 states)\n",
    "def generate_symmetric_matrix(num_states):\n",
    "    \"\"\"Generate an n x n symmetric matrix for 0-based indexing, where n = num_states.\"\"\"\n",
    "    mat = np.random.rand(num_states, num_states)  # Generate random values\n",
    "    mat = (mat + mat.T) / 2  # Make the matrix symmetric\n",
    "    np.fill_diagonal(mat, 1)  # Fill the diagonal with 1s for self-relations\n",
    "    return mat"
   ]
  },
  {
   "cell_type": "code",
   "execution_count": 171,
   "metadata": {},
   "outputs": [],
   "source": [
    "# Optimized Global Energy Function\n",
    "def global_energy_optimized(current_states, observation, relational_matrix):\n",
    "    energy = 0  # Initialize energy to 0\n",
    "    num_vertices = len(current_states)  # Number of bounding boxes\n",
    "    pairwise_weights = relational_matrix[current_states[:, None], current_states]  # Optimized submatrix extraction\n",
    "    \n",
    "    # 1. Factor in the observation likelihood for the bounding box (vectorized log)\n",
    "    obs_probs = observation[np.arange(num_vertices), current_states]  # Extract the probabilities for the current states\n",
    "    energy = -np.sum(np.log(obs_probs))  # Sum the log probabilities and subtract from energy\n",
    "    \n",
    "    # 2. Consider 2-tuples and calculate the weight (vectorized log of pairwise weights)\n",
    "    i_upper, j_upper = np.triu_indices(num_vertices, k=1)  # Get indices for all 2-tuples (upper triangle)\n",
    "    energy -= np.sum(np.log(pairwise_weights[i_upper, j_upper]))  # Subtract log of all pairwise weights\n",
    "\n",
    "    # 3. Consider n-tuples (n >= 3) and calculate the average weight (optimize using NumPy broadcasting)\n",
    "    for n in range(3, num_vertices + 1):\n",
    "        tuples = list(it.combinations(range(num_vertices), n))\n",
    "        all_pairwise_weights = np.array([\n",
    "            pairwise_weights[np.ix_(t, t)][np.triu_indices(n, k=1)]\n",
    "            for t in tuples\n",
    "        ])\n",
    "        if all_pairwise_weights.size > 0:\n",
    "            energy -= np.log(np.mean(all_pairwise_weights))  # Subtract log of the mean of all tuple weights\n",
    "    \n",
    "    return energy"
   ]
  },
  {
   "cell_type": "code",
   "execution_count": 170,
   "metadata": {},
   "outputs": [],
   "source": [
    "# Function to run global_energy with all possible state combinations (optimized)\n",
    "def run_global_energy_all_states(num_boxes, num_states, observation, relational_matrix):\n",
    "    # Generate all possible state combinations directly as a NumPy array\n",
    "    all_possible_states = np.array(list(product(range(num_states), repeat=num_boxes)))\n",
    "    results = []\n",
    "    \n",
    "    for states in all_possible_states:\n",
    "        # Pass states as a NumPy array directly\n",
    "        energy = global_energy_optimized(states, observation, relational_matrix)\n",
    "        results.append((states, energy))\n",
    "    \n",
    "    # Convert results to a DataFrame\n",
    "    df_results = pd.DataFrame(results, columns=[\"State Combination\", \"Global Energy\"])\n",
    "    \n",
    "    # Sort by global energy\n",
    "    df_results = df_results.sort_values(by=\"Global Energy\", ascending=True).reset_index(drop=True)\n",
    "    \n",
    "    return df_results\n"
   ]
  },
  {
   "cell_type": "code",
   "execution_count": 163,
   "metadata": {},
   "outputs": [],
   "source": [
    "# Optimized Simulated Annealing for Discrete Integer Optimization\n",
    "def discrete_simulated_annealing_optimized(num_boxes, num_states, observation, relational_matrix, max_iter=1000, initial_temp=1.0, cooling_rate=0.99):\n",
    "    # Random initial states\n",
    "    current_states = np.random.randint(0, num_states, size=num_boxes)\n",
    "    current_energy = global_energy(current_states, observation, relational_matrix)\n",
    "    \n",
    "    best_states = current_states.copy()\n",
    "    best_energy = current_energy\n",
    "    \n",
    "    temperature = initial_temp\n",
    "    rand_state = np.random.default_rng()  # Use the faster random number generator\n",
    "    \n",
    "    for i in range(max_iter):\n",
    "        # Randomly choose a box and change its state (in-place update)\n",
    "        new_states = current_states.copy()  # Avoid unnecessary array allocation by modifying in-place\n",
    "        random_box = rand_state.integers(0, num_boxes)  # Use faster RNG for random box\n",
    "        new_state = rand_state.integers(0, num_states)  # Use faster RNG for new state\n",
    "        new_states[random_box] = new_state\n",
    "        \n",
    "        # Calculate the energy of the new state configuration\n",
    "        new_energy = global_energy(new_states, observation, relational_matrix)\n",
    "        \n",
    "        # Decide whether to accept the new state based on Metropolis criterion\n",
    "        if new_energy < current_energy or rand_state.random() < np.exp((current_energy - new_energy) / temperature):\n",
    "            current_states = new_states\n",
    "            current_energy = new_energy\n",
    "        \n",
    "        # Update the best state if the new configuration is better\n",
    "        if current_energy < best_energy:\n",
    "            best_states = current_states\n",
    "            best_energy = current_energy\n",
    "        \n",
    "        # Cool down the system (precompute cooling steps if needed)\n",
    "        temperature *= cooling_rate\n",
    "    \n",
    "    return best_states, best_energy"
   ]
  },
  {
   "cell_type": "code",
   "execution_count": 114,
   "metadata": {},
   "outputs": [],
   "source": [
    "# # Simulated Annealing WITH WRAPDISC\n",
    "\n",
    "# Objective wrapper for discrete variables\n",
    "def wrapped_energy_fn(wrapped_states):\n",
    "    \"\"\"Wrapped function to decode categorical states and compute global energy.\"\"\"\n",
    "    current_states = wrapped_states  # No further decoding needed for this setup\n",
    "    return global_energy(current_states, observation, relational_matrix)\n",
    "\n",
    "# Wrap the global energy function using wrapdisc\n",
    "wrapped_objective = Objective(\n",
    "    wrapped_energy_fn,\n",
    "    variables=[\n",
    "        ChoiceVar(states),  # Each bounding box can be in one of the 4 states [0, 1, 2, 3]\n",
    "        ChoiceVar(states),\n",
    "        ChoiceVar(states),\n",
    "    ]\n",
    ")\n"
   ]
  },
  {
   "cell_type": "code",
   "execution_count": 154,
   "metadata": {},
   "outputs": [
    {
     "name": "stdout",
     "output_type": "stream",
     "text": [
      "Random Current State:\n",
      "[3 2 3]\n",
      "\n",
      "Random Relational Probability Matrix (ConceptNet):\n",
      "[[1.         0.64389731 0.29195695 0.42536708]\n",
      " [0.64389731 1.         0.62929592 0.616207  ]\n",
      " [0.29195695 0.62929592 1.         0.41250271]\n",
      " [0.42536708 0.616207   0.41250271 1.        ]]\n",
      "\n",
      "Random Bounding Box Probabilities (Computer Vision):\n",
      "[[0.15808451 0.22438054 0.2498798  0.36765516]\n",
      " [0.37634462 0.15045102 0.22527668 0.24792768]\n",
      " [0.29422046 0.16869235 0.45371019 0.083377  ]] \n",
      "\n"
     ]
    }
   ],
   "source": [
    "num_boxes = 3\n",
    "num_states = 4\n",
    "states = [0, 1, 2, 3]  # States corresponding to [\"Glass\", \"Car\", \"Tree\", \"Cup\"]\n",
    "\n",
    "# Generate random current state as vecotr of length num_boxes ranging in the states\n",
    "current_states = np.random.choice(states, size=num_boxes)\n",
    "print(\"Random Current State:\")\n",
    "print(current_states)\n",
    "\n",
    "# Assuming we have a 4x4 relational probability matrix for the 4 states (this should come from the ConceptNet)\n",
    "relational_matrix = generate_symmetric_matrix(num_states)\n",
    "print(\"\\nRandom Relational Probability Matrix (ConceptNet):\")\n",
    "print(relational_matrix)\n",
    "\n",
    "# Generate random probability distributions for 3 bounding boxes and 4 states (this should come from the Computer Vision observation)\n",
    "observation = generate_random_probabilities(num_boxes=num_boxes, num_states=num_states)\n",
    "print(\"\\nRandom Bounding Box Probabilities (Computer Vision):\")\n",
    "print(observation, \"\\n\")"
   ]
  },
  {
   "cell_type": "code",
   "execution_count": 173,
   "metadata": {},
   "outputs": [
    {
     "name": "stdout",
     "output_type": "stream",
     "text": [
      "   State Combination  Global Energy\n",
      "0          [2, 2, 2]       3.667498\n",
      "1          [0, 0, 0]       4.045301\n",
      "2          [1, 0, 0]       4.846544\n",
      "3          [3, 3, 3]       4.879611\n",
      "4          [1, 2, 2]       4.985313\n",
      "..               ...            ...\n",
      "59         [0, 3, 2]       7.977553\n",
      "60         [2, 1, 3]       8.191111\n",
      "61         [0, 1, 3]       8.578884\n",
      "62         [2, 0, 3]       8.796420\n",
      "63         [0, 2, 3]       9.767446\n",
      "\n",
      "[64 rows x 2 columns]\n"
     ]
    }
   ],
   "source": [
    "# Run global_energy for all possible state combinations and get the sorted results\n",
    "df_all_states_results = run_global_energy_all_states(\n",
    "    num_boxes=num_boxes,\n",
    "    num_states=num_states,\n",
    "    observation=observation,\n",
    "    relational_matrix=relational_matrix\n",
    ")\n",
    "\n",
    "# Display the DataFrame with state combinations and global energy values\n",
    "print(df_all_states_results)"
   ]
  },
  {
   "cell_type": "code",
   "execution_count": 175,
   "metadata": {},
   "outputs": [
    {
     "name": "stdout",
     "output_type": "stream",
     "text": [
      "  Optimized States  Minimized Global Energy  Count\n",
      "0        (2, 2, 2)                 3.667498     69\n",
      "1        (0, 0, 0)                 4.045301     27\n",
      "2        (3, 3, 3)                 4.879611      4\n"
     ]
    }
   ],
   "source": [
    "n_runs = 100\n",
    "# Function to run the simulated annealing multiple times and collect results\n",
    "def run_simulated_annealing_multiple_times(n_runs, num_boxes, num_states, observation, relational_matrix):\n",
    "    results = {}\n",
    "    \n",
    "    for _ in range(n_runs):\n",
    "        optimized_states, minimized_energy = discrete_simulated_annealing_optimized(\n",
    "            num_boxes=num_boxes, \n",
    "            num_states=num_states, \n",
    "            observation=observation, \n",
    "            relational_matrix=relational_matrix,\n",
    "            max_iter=1000,\n",
    "            initial_temp=1.0,\n",
    "            cooling_rate=0.99\n",
    "        )\n",
    "        \n",
    "        # Convert list to a tuple to use as a dictionary key\n",
    "        state_tuple = tuple(optimized_states)\n",
    "        \n",
    "        # If the state is already in results, update the count and energy\n",
    "        if state_tuple in results:\n",
    "            results[state_tuple]['count'] += 1\n",
    "        else:\n",
    "            results[state_tuple] = {'minimized_energy': minimized_energy, 'count': 1}\n",
    "    \n",
    "    # Convert results to a DataFrame\n",
    "    df_results = pd.DataFrame([\n",
    "        {'Optimized States': states, 'Minimized Global Energy': data['minimized_energy'], 'Count': data['count']}\n",
    "        for states, data in results.items()\n",
    "    ])\n",
    "    \n",
    "    # Sort by minimized energy\n",
    "    df_results = df_results.sort_values(by=\"Minimized Global Energy\", ascending=True).reset_index(drop=True)\n",
    "    \n",
    "    return df_results\n",
    "\n",
    "# Run the simulation and get the ordered results\n",
    "df_ordered_results = run_simulated_annealing_multiple_times(\n",
    "    n_runs=n_runs,\n",
    "    num_boxes=num_boxes,\n",
    "    num_states=num_states,\n",
    "    observation=observation,\n",
    "    relational_matrix=relational_matrix\n",
    ")\n",
    "\n",
    "print(df_ordered_results)"
   ]
  },
  {
   "cell_type": "code",
   "execution_count": 161,
   "metadata": {},
   "outputs": [
    {
     "name": "stdout",
     "output_type": "stream",
     "text": [
      "Optimized States: (1, 1, 1)\n",
      "Minimized Global Energy: 3.32759880300248\n",
      "Cause of the termination: ['Maximum number of iteration reached']\n"
     ]
    }
   ],
   "source": [
    "# Get the bounds from the wrapped objective\n",
    "bounds = wrapped_objective.bounds\n",
    "\n",
    "# Use dual annealing to minimize the wrapped energy function\n",
    "result = dual_annealing(wrapped_objective, bounds=bounds, seed=42, maxiter=10000)\n",
    "\n",
    "# Decode the solution back into the categorical form\n",
    "decoded_solution = wrapped_objective.decode(result.x)\n",
    "print(\"Optimized States:\", decoded_solution)\n",
    "print(\"Minimized Global Energy:\", result.fun)\n",
    "print(\"Cause of the termination:\", result.message)"
   ]
  },
  {
   "cell_type": "code",
   "execution_count": 162,
   "metadata": {},
   "outputs": [
    {
     "data": {
      "text/plain": [
       "np.float64(5.168208180216731)"
      ]
     },
     "execution_count": 162,
     "metadata": {},
     "output_type": "execute_result"
    }
   ],
   "source": [
    "#IMPORTANT: SOMEHOW THE WRAPDISC DUAL ANNEALING IS NOT GIVEN THE COORECT VALUE FOR THE MINIMIZED GLOBAL ENERGY, ALTHOUGH THE OPTIMIZED STATES ARE NOT BAD\n",
    "global_energy(decoded_solution, observation, relational_matrix)"
   ]
  },
  {
   "cell_type": "code",
   "execution_count": null,
   "metadata": {},
   "outputs": [],
   "source": []
  }
 ],
 "metadata": {
  "kernelspec": {
   "display_name": ".venv",
   "language": "python",
   "name": "python3"
  },
  "language_info": {
   "codemirror_mode": {
    "name": "ipython",
    "version": 3
   },
   "file_extension": ".py",
   "mimetype": "text/x-python",
   "name": "python",
   "nbconvert_exporter": "python",
   "pygments_lexer": "ipython3",
   "version": "3.12.5"
  }
 },
 "nbformat": 4,
 "nbformat_minor": 2
}
