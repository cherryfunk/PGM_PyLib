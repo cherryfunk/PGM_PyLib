{
 "cells": [
  {
   "cell_type": "code",
   "execution_count": 54,
   "metadata": {},
   "outputs": [],
   "source": [
    "import numpy as np\n",
    "import itertools as it\n",
    "from itertools import product\n",
    "\n",
    "from scipy.optimize import dual_annealing\n",
    "from wrapdisc import Objective\n",
    "from wrapdisc.var import ChoiceVar\n",
    "\n",
    "import pandas as pd"
   ]
  },
  {
   "cell_type": "code",
   "execution_count": 55,
   "metadata": {},
   "outputs": [],
   "source": [
    "# Function to generate random probability distributions for bounding boxes\n",
    "def generate_random_probabilities(num_boxes, num_states):\n",
    "    \"\"\"\n",
    "    Generate random probability distributions for each bounding box.\n",
    "    \n",
    "    Parameters:\n",
    "    - num_boxes: int, number of bounding boxes\n",
    "    - num_states: int, number of states (e.g., \"tree\", \"glass\", \"car\", \"cup\")\n",
    "\n",
    "    Returns:\n",
    "    - numpy array of shape (num_boxes, num_states), where each row is a\n",
    "      probability distribution over the states for a bounding box.\n",
    "    \"\"\"\n",
    "    probabilities = np.random.rand(num_boxes, num_states)  # Generate random values\n",
    "    probabilities /= probabilities.sum(axis=1, keepdims=True)  # Normalize each row to sum to 1\n",
    "    return probabilities\n",
    "\n",
    "# Generate the 4x4 relational probability matrix (for the 4 states)\n",
    "def generate_symmetric_matrix(num_states):\n",
    "    \"\"\"Generate an n x n symmetric matrix for 0-based indexing, where n = num_states.\"\"\"\n",
    "    mat = np.random.rand(num_states, num_states)  # Generate random values\n",
    "    mat = (mat + mat.T) / 2  # Make the matrix symmetric\n",
    "    np.fill_diagonal(mat, 1)  # Fill the diagonal with 1s for self-relations\n",
    "    return mat"
   ]
  },
  {
   "cell_type": "code",
   "execution_count": 56,
   "metadata": {},
   "outputs": [],
   "source": [
    "def global_energy(current_states, observation, relational_matrix):\n",
    "    \"\"\"\n",
    "    Global energy function for the entire RMRF in the current state (complete graph assumption).\n",
    "    \"\"\"\n",
    "\n",
    "    energy           = 0.0\n",
    "    num_vertices     = len(current_states) # Number of bounding boxes\n",
    "    pairwise_weights = relational_matrix[np.ix_(current_states, current_states)] # Compute the pairwise weights by indexing the relational_matrix\n",
    "    \n",
    "    # 1. Factor in the observation (1-tuple) likelihood for the bounding box\n",
    "    obs_probs    = observation[np.arange(num_vertices), current_states]  # Extract the probabilities for the current states\n",
    "    energy      -= np.sum(np.log(obs_probs)) # Sum the log probabilities and subtract from energy\n",
    "    \n",
    "    # 2. Consider 2-tuples and calculate the weight as basis for the energy\n",
    "    i_upper, j_upper = np.triu_indices(num_vertices, k=1)  # Get indices for all 2-tuples (upper triangle)\n",
    "    energy          -= np.sum(np.log(pairwise_weights[i_upper, j_upper]))  # Subtract log of all pairwise weights\n",
    "\n",
    "    # 3. Consider n-tuples (n >= 3) and calculate the average weight as basis for the energy\n",
    "    # Iterate over all possible n-tuples, starting from n=3\n",
    "    for n in range(3, num_vertices + 1):\n",
    "        # Get all n-tuples (combinations of vertices of size n)\n",
    "        tuples = list(it.combinations(range(num_vertices), n))\n",
    "        \n",
    "        # Collect pairwise weights for all tuples of this size n\n",
    "        all_pairwise_weights = []\n",
    "        \n",
    "        for t in tuples:\n",
    "            # Extract the pairwise weights for the current n-tuple (submatrix)\n",
    "            submatrix = pairwise_weights[np.ix_(t, t)]  # Submatrix for the current n-tuple\n",
    "            i, j = np.triu_indices(n, k=1)  # Indices for upper triangular part (pairwise combinations)\n",
    "            tuple_weights = submatrix[i, j]  # Pairwise weights for this n-tuple\n",
    "            \n",
    "            # Add the weights to the list of all pairwise weights for this n\n",
    "            all_pairwise_weights.extend(tuple_weights)\n",
    "        \n",
    "        # Calculate the mean over all pairwise weights across all n-tuples\n",
    "        if all_pairwise_weights:  # Ensure there are weights to average\n",
    "            average_weight = np.mean(all_pairwise_weights)\n",
    "            energy -= np.log(average_weight)  # Subtract log of the mean of all tuple weights\n",
    "    \n",
    "    return energy"
   ]
  },
  {
   "cell_type": "code",
   "execution_count": 74,
   "metadata": {},
   "outputs": [],
   "source": [
    "# Optimized Global Energy Function\n",
    "def global_energy_optimized(current_states, observation, relational_matrix):\n",
    "    energy = 0\n",
    "    num_vertices = len(current_states)  # Number of bounding boxes\n",
    "    pairwise_weights = relational_matrix[np.ix_(current_states, current_states)]  # Optimized submatrix extraction\n",
    "    \n",
    "    # 1. Factor in the observation likelihood for the bounding box (vectorized log)\n",
    "    obs_probs = observation[np.arange(num_vertices), current_states]  # Extract the probabilities for the current states\n",
    "    energy = -np.sum(np.log(obs_probs))  # Sum the log probabilities and subtract from energy\n",
    "    \n",
    "    # 2. Consider 2-tuples and calculate the weight (vectorized log of pairwise weights)\n",
    "    i_upper, j_upper = np.triu_indices(num_vertices, k=1)  # Get indices for all 2-tuples (upper triangle)\n",
    "    energy -= np.sum(np.log(pairwise_weights[i_upper, j_upper]))  # Subtract log of all pairwise weights\n",
    "        \n",
    "    return energy"
   ]
  },
  {
   "cell_type": "code",
   "execution_count": 58,
   "metadata": {},
   "outputs": [],
   "source": [
    "# Function to run global_energy with all possible state combinations (optimized)\n",
    "def run_global_energy_all_states(num_boxes, num_states, observation, relational_matrix):\n",
    "    # Generate all possible state combinations directly as a NumPy array\n",
    "    all_possible_states = np.array(list(product(range(num_states), repeat=num_boxes)))\n",
    "    results = []\n",
    "    \n",
    "    for states in all_possible_states:\n",
    "        # Pass states as a NumPy array directly\n",
    "        energy = global_energy(states, observation, relational_matrix)\n",
    "        results.append((states, energy))\n",
    "    \n",
    "    # Convert results to a DataFrame\n",
    "    df_results = pd.DataFrame(results, columns=[\"State Combination\", \"Global Energy\"])\n",
    "    \n",
    "    # Sort by global energy\n",
    "    df_results = df_results.sort_values(by=\"Global Energy\", ascending=True).reset_index(drop=True)\n",
    "    \n",
    "    return df_results\n"
   ]
  },
  {
   "cell_type": "code",
   "execution_count": 59,
   "metadata": {},
   "outputs": [],
   "source": [
    "# Function to run global_energy with all possible state combinations (optimized)\n",
    "def run_global_energy_all_states_optimized(num_boxes, num_states, observation, relational_matrix):\n",
    "    # Generate all possible state combinations directly as a NumPy array\n",
    "    all_possible_states = np.array(list(product(range(num_states), repeat=num_boxes)))\n",
    "    results = []\n",
    "    \n",
    "    for states in all_possible_states:\n",
    "        # Pass states as a NumPy array directly\n",
    "        energy = global_energy_optimized(states, observation, relational_matrix)\n",
    "        results.append((states, energy))\n",
    "    \n",
    "    # Convert results to a DataFrame\n",
    "    df_results = pd.DataFrame(results, columns=[\"State Combination\", \"Global Energy\"])\n",
    "    \n",
    "    # Sort by global energy\n",
    "    df_results = df_results.sort_values(by=\"Global Energy\", ascending=True).reset_index(drop=True)\n",
    "    \n",
    "    return df_results\n"
   ]
  },
  {
   "cell_type": "code",
   "execution_count": 60,
   "metadata": {},
   "outputs": [],
   "source": [
    "def discrete_simulated_annealing(num_boxes, num_states, observation, relational_matrix, max_iter=1000, initial_temp=1.0, cooling_rate=0.99):\n",
    "    # Random initial states\n",
    "    current_states = np.random.choice(num_states, size=num_boxes)\n",
    "    current_energy = global_energy(current_states, observation, relational_matrix)\n",
    "    \n",
    "    best_states = current_states.copy()\n",
    "    best_energy = current_energy\n",
    "    \n",
    "    temperature = initial_temp\n",
    "    \n",
    "    for i in range(max_iter):\n",
    "        # Randomly choose a box and change its state\n",
    "        new_states = current_states.copy()\n",
    "        random_box = np.random.randint(0, num_boxes)  # Choose a random box\n",
    "        new_state = np.random.randint(0, num_states)  # Choose a new random state for that box\n",
    "        new_states[random_box] = new_state\n",
    "        \n",
    "        # Calculate the energy of the new state configuration\n",
    "        new_energy = global_energy(new_states, observation, relational_matrix)\n",
    "        \n",
    "        # Decide whether to accept the new state based on Metropolis criterion\n",
    "        if new_energy < current_energy or np.random.rand() < np.exp((current_energy - new_energy) / temperature):\n",
    "            current_states = new_states\n",
    "            current_energy = new_energy\n",
    "        \n",
    "        # Update the best state if the new configuration is better\n",
    "        if current_energy < best_energy:\n",
    "            best_states = current_states\n",
    "            best_energy = current_energy\n",
    "        \n",
    "        # Cool down the system\n",
    "        temperature *= cooling_rate\n",
    "    \n",
    "    return best_states, best_energy"
   ]
  },
  {
   "cell_type": "code",
   "execution_count": 61,
   "metadata": {},
   "outputs": [],
   "source": [
    "import numpy as np\n",
    "\n",
    "def discrete_simulated_annealing_optimized(num_boxes, num_states, observation, relational_matrix, max_iter=1000, initial_temp=1.0, cooling_rate=0.99):\n",
    "    # Random initial states\n",
    "    current_states = np.random.randint(0, num_states, size=num_boxes)\n",
    "    current_energy = global_energy_optimized(current_states, observation, relational_matrix)\n",
    "    \n",
    "    best_states = current_states.copy()  # Keep a copy of the best state\n",
    "    best_energy = current_energy\n",
    "    \n",
    "    rand_state = np.random.default_rng()  # Use a faster random number generator\n",
    "    \n",
    "    # Precompute temperature updates to avoid multiplication in the loop\n",
    "    temperatures = initial_temp * (cooling_rate ** np.arange(max_iter))\n",
    "\n",
    "    for step, temperature in enumerate(temperatures):\n",
    "        # Randomly choose a box and change its state (in-place update)\n",
    "        random_box = rand_state.integers(0, num_boxes)  # Randomly select a box\n",
    "        new_state = rand_state.integers(0, num_states)  # Generate a new random state\n",
    "        \n",
    "        if new_state == current_states[random_box]:\n",
    "            continue  # Skip iteration if the new state is the same as the current state\n",
    "\n",
    "        # Save old state, but avoid full array copy\n",
    "        old_state = current_states[random_box]\n",
    "        current_states[random_box] = new_state  # Modify the state directly\n",
    "        \n",
    "        # Calculate the energy of the new state configuration\n",
    "        new_energy = global_energy_optimized(current_states, observation, relational_matrix)\n",
    "        \n",
    "        # Accept new state if it's better or by Metropolis criterion\n",
    "        delta_energy = current_energy - new_energy\n",
    "        if delta_energy > 0 or rand_state.random() < np.exp(delta_energy / temperature):\n",
    "            current_energy = new_energy  # Accept the new state\n",
    "        else:\n",
    "            current_states[random_box] = old_state  # Revert the change if not accepted\n",
    "        \n",
    "        # Update the best state if the new configuration is better\n",
    "        if current_energy < best_energy:\n",
    "            best_states[:] = current_states  # Efficient in-place copy of the best state\n",
    "            best_energy = current_energy\n",
    "    \n",
    "    return best_states, best_energy\n"
   ]
  },
  {
   "cell_type": "code",
   "execution_count": 75,
   "metadata": {},
   "outputs": [],
   "source": [
    "# # Simulated Annealing WITH WRAPDISC\n",
    "\n",
    "# Objective wrapper for discrete variables\n",
    "def wrapped_energy_fn(wrapped_states):\n",
    "    \"\"\"Wrapped function to decode categorical states and compute global energy.\"\"\"\n",
    "    current_states = wrapped_states  # No further decoding needed for this setup\n",
    "    return global_energy_optimized(current_states, observation, relational_matrix)\n",
    "\n",
    "# Wrap the global energy function using wrapdisc\n",
    "wrapped_objective = Objective(\n",
    "    wrapped_energy_fn,\n",
    "    variables=[\n",
    "        ChoiceVar(states),  # Each bounding box can be in one of the 4 states [0, 1, 2, 3]\n",
    "        ChoiceVar(states),\n",
    "        ChoiceVar(states),\n",
    "    ]\n",
    ")\n"
   ]
  },
  {
   "cell_type": "code",
   "execution_count": 63,
   "metadata": {},
   "outputs": [
    {
     "name": "stdout",
     "output_type": "stream",
     "text": [
      "Random Current State:\n",
      "[2 0 3]\n",
      "\n",
      "Random Relational Probability Matrix (ConceptNet):\n",
      "[[1.         0.39736465 0.4884304  0.5482577 ]\n",
      " [0.39736465 1.         0.63602394 0.50768014]\n",
      " [0.4884304  0.63602394 1.         0.0366336 ]\n",
      " [0.5482577  0.50768014 0.0366336  1.        ]]\n",
      "\n",
      "Random Bounding Box Probabilities (Computer Vision):\n",
      "[[0.19862323 0.11050364 0.37327237 0.31760077]\n",
      " [0.06024503 0.4073211  0.27389927 0.2585346 ]\n",
      " [0.12873903 0.25523438 0.3499408  0.26608579]] \n",
      "\n"
     ]
    }
   ],
   "source": [
    "num_boxes = 3\n",
    "num_states = 4\n",
    "states = [0, 1, 2, 3]  # States corresponding to [\"Glass\", \"Car\", \"Tree\", \"Cup\"]\n",
    "\n",
    "# Generate random current state as vecotr of length num_boxes ranging in the states\n",
    "current_states = np.random.choice(states, size=num_boxes)\n",
    "print(\"Random Current State:\")\n",
    "print(current_states)\n",
    "\n",
    "# Assuming we have a 4x4 relational probability matrix for the 4 states (this should come from the ConceptNet)\n",
    "relational_matrix = generate_symmetric_matrix(num_states)\n",
    "print(\"\\nRandom Relational Probability Matrix (ConceptNet):\")\n",
    "print(relational_matrix)\n",
    "\n",
    "# Generate random probability distributions for 3 bounding boxes and 4 states (this should come from the Computer Vision observation)\n",
    "observation = generate_random_probabilities(num_boxes=num_boxes, num_states=num_states)\n",
    "print(\"\\nRandom Bounding Box Probabilities (Computer Vision):\")\n",
    "print(observation, \"\\n\")"
   ]
  },
  {
   "cell_type": "code",
   "execution_count": 64,
   "metadata": {},
   "outputs": [
    {
     "name": "stdout",
     "output_type": "stream",
     "text": [
      "   State Combination  Global Energy\n",
      "0          [2, 2, 2]       3.330433\n",
      "1          [3, 3, 3]       3.823622\n",
      "2          [2, 1, 2]       4.116561\n",
      "3          [2, 1, 1]       4.432142\n",
      "4          [1, 1, 1]       4.466433\n",
      "..               ...            ...\n",
      "59         [3, 2, 2]      11.133430\n",
      "60         [3, 3, 2]      11.191161\n",
      "61         [2, 2, 3]      11.245862\n",
      "62         [2, 3, 3]      11.303593\n",
      "63         [3, 2, 3]      11.407375\n",
      "\n",
      "[64 rows x 2 columns]\n"
     ]
    }
   ],
   "source": [
    "# Run global_energy for all possible state combinations and get the sorted results\n",
    "df_all_states_results = run_global_energy_all_states(\n",
    "    num_boxes=num_boxes,\n",
    "    num_states=num_states,\n",
    "    observation=observation,\n",
    "    relational_matrix=relational_matrix\n",
    ")\n",
    "\n",
    "# Display the DataFrame with state combinations and global energy values\n",
    "print(df_all_states_results)"
   ]
  },
  {
   "cell_type": "code",
   "execution_count": 65,
   "metadata": {},
   "outputs": [
    {
     "name": "stdout",
     "output_type": "stream",
     "text": [
      "   State Combination  Global Energy\n",
      "0          [2, 2, 2]       3.330433\n",
      "1          [3, 3, 3]       3.823622\n",
      "2          [2, 1, 2]       3.838630\n",
      "3          [2, 1, 1]       4.154212\n",
      "4          [1, 1, 1]       4.466433\n",
      "..               ...            ...\n",
      "59         [3, 2, 2]      10.105525\n",
      "60         [3, 3, 2]      10.163256\n",
      "61         [2, 2, 3]      10.217957\n",
      "62         [2, 3, 3]      10.275688\n",
      "63         [3, 2, 3]      10.379471\n",
      "\n",
      "[64 rows x 2 columns]\n"
     ]
    }
   ],
   "source": [
    "# Run global_energy for all possible state combinations and get the sorted results\n",
    "df_all_states_results = run_global_energy_all_states_optimized(\n",
    "    num_boxes=num_boxes,\n",
    "    num_states=num_states,\n",
    "    observation=observation,\n",
    "    relational_matrix=relational_matrix\n",
    ")\n",
    "\n",
    "# Display the DataFrame with state combinations and global energy values\n",
    "print(df_all_states_results)"
   ]
  },
  {
   "cell_type": "code",
   "execution_count": 66,
   "metadata": {},
   "outputs": [
    {
     "name": "stdout",
     "output_type": "stream",
     "text": [
      "  Optimized States  Minimized Global Energy  Count\n",
      "0        (2, 2, 2)                 3.330433     68\n",
      "1        (3, 3, 3)                 3.823622     32\n"
     ]
    }
   ],
   "source": [
    "n_runs = 100\n",
    "# Function to run the simulated annealing multiple times and collect results\n",
    "def run_simulated_annealing_multiple_times(n_runs, num_boxes, num_states, observation, relational_matrix):\n",
    "    results = {}\n",
    "    \n",
    "    for _ in range(n_runs):\n",
    "        optimized_states, minimized_energy = discrete_simulated_annealing(\n",
    "            num_boxes=num_boxes, \n",
    "            num_states=num_states, \n",
    "            observation=observation, \n",
    "            relational_matrix=relational_matrix,\n",
    "            max_iter=1000,\n",
    "            initial_temp=1.0,\n",
    "            cooling_rate=0.99\n",
    "        )\n",
    "        \n",
    "        # Convert list to a tuple to use as a dictionary key\n",
    "        state_tuple = tuple(optimized_states)\n",
    "        \n",
    "        # If the state is already in results, update the count and energy\n",
    "        if state_tuple in results:\n",
    "            results[state_tuple]['count'] += 1\n",
    "        else:\n",
    "            results[state_tuple] = {'minimized_energy': minimized_energy, 'count': 1}\n",
    "    \n",
    "    # Convert results to a DataFrame\n",
    "    df_results = pd.DataFrame([\n",
    "        {'Optimized States': states, 'Minimized Global Energy': data['minimized_energy'], 'Count': data['count']}\n",
    "        for states, data in results.items()\n",
    "    ])\n",
    "    \n",
    "    # Sort by minimized energy\n",
    "    df_results = df_results.sort_values(by=\"Minimized Global Energy\", ascending=True).reset_index(drop=True)\n",
    "    \n",
    "    return df_results\n",
    "\n",
    "# Run the simulation and get the ordered results\n",
    "df_ordered_results = run_simulated_annealing_multiple_times(\n",
    "    n_runs=n_runs,\n",
    "    num_boxes=num_boxes,\n",
    "    num_states=num_states,\n",
    "    observation=observation,\n",
    "    relational_matrix=relational_matrix\n",
    ")\n",
    "\n",
    "print(df_ordered_results)"
   ]
  },
  {
   "cell_type": "code",
   "execution_count": 71,
   "metadata": {},
   "outputs": [
    {
     "name": "stdout",
     "output_type": "stream",
     "text": [
      "  Optimized States  Minimized Global Energy  Count\n",
      "0        (2, 2, 2)                 3.330433     77\n",
      "1        (3, 3, 3)                 3.823622     23\n"
     ]
    }
   ],
   "source": [
    "n_runs = 100\n",
    "# Function to run the simulated annealing multiple times and collect results\n",
    "def run_simulated_annealing_multiple_times_optimized(n_runs, num_boxes, num_states, observation, relational_matrix):\n",
    "    results = {}\n",
    "    \n",
    "    for _ in range(n_runs):\n",
    "        optimized_states, minimized_energy = discrete_simulated_annealing_optimized(\n",
    "            num_boxes=num_boxes, \n",
    "            num_states=num_states, \n",
    "            observation=observation, \n",
    "            relational_matrix=relational_matrix,\n",
    "            max_iter=1000,\n",
    "            initial_temp=1.0,\n",
    "            cooling_rate=0.99\n",
    "        )\n",
    "        \n",
    "        # Convert list to a tuple to use as a dictionary key\n",
    "        state_tuple = tuple(optimized_states)\n",
    "        \n",
    "        # If the state is already in results, update the count and energy\n",
    "        if state_tuple in results:\n",
    "            results[state_tuple]['count'] += 1\n",
    "        else:\n",
    "            results[state_tuple] = {'minimized_energy': minimized_energy, 'count': 1}\n",
    "    \n",
    "    # Convert results to a DataFrame\n",
    "    df_results = pd.DataFrame([\n",
    "        {'Optimized States': states, 'Minimized Global Energy': data['minimized_energy'], 'Count': data['count']}\n",
    "        for states, data in results.items()\n",
    "    ])\n",
    "    \n",
    "    # Sort by minimized energy\n",
    "    df_results = df_results.sort_values(by=\"Minimized Global Energy\", ascending=True).reset_index(drop=True)\n",
    "    \n",
    "    return df_results\n",
    "\n",
    "# Run the simulation and get the ordered results\n",
    "df_ordered_results = run_simulated_annealing_multiple_times_optimized(\n",
    "    n_runs=n_runs,\n",
    "    num_boxes=num_boxes,\n",
    "    num_states=num_states,\n",
    "    observation=observation,\n",
    "    relational_matrix=relational_matrix\n",
    ")\n",
    "\n",
    "print(df_ordered_results)"
   ]
  },
  {
   "cell_type": "code",
   "execution_count": 76,
   "metadata": {},
   "outputs": [
    {
     "name": "stdout",
     "output_type": "stream",
     "text": [
      "Optimized States: (2, 2, 2)\n",
      "Minimized Global Energy: 3.330433079492188\n",
      "Cause of the termination: ['Maximum number of iteration reached']\n"
     ]
    }
   ],
   "source": [
    "# Get the bounds from the wrapped objective\n",
    "bounds = wrapped_objective.bounds\n",
    "\n",
    "# Use dual annealing to minimize the wrapped energy function\n",
    "result = dual_annealing(wrapped_objective, bounds=bounds, seed=42, maxiter=10000)\n",
    "\n",
    "# Decode the solution back into the categorical form\n",
    "decoded_solution = wrapped_objective.decode(result.x)\n",
    "print(\"Optimized States:\", decoded_solution)\n",
    "print(\"Minimized Global Energy:\", result.fun)\n",
    "print(\"Cause of the termination:\", result.message)"
   ]
  },
  {
   "cell_type": "markdown",
   "metadata": {},
   "source": [
    "# Comparing to probability functions"
   ]
  },
  {
   "cell_type": "code",
   "execution_count": 77,
   "metadata": {},
   "outputs": [],
   "source": [
    "# Optimized Global Probability Function (Multiplicative Version)\n",
    "def global_probability_optimized(current_states, observation, relational_matrix):\n",
    "    probability = 1  # Start with 1 for multiplication\n",
    "    num_vertices = len(current_states)  # Number of bounding boxes\n",
    "    pairwise_weights = relational_matrix[np.ix_(current_states, current_states)]  # Optimized submatrix extraction\n",
    "    \n",
    "    # 1. Factor in the observation likelihood for the bounding box\n",
    "    obs_probs = observation[np.arange(num_vertices), current_states]  # Extract the probabilities for the current states\n",
    "    probability *= np.prod(obs_probs)  # Multiply the observation probabilities\n",
    "    \n",
    "    # 2. Consider 2-tuples and calculate the weight (direct pairwise weights)\n",
    "    i_upper, j_upper = np.triu_indices(num_vertices, k=1)  # Get indices for all 2-tuples (upper triangle)\n",
    "    probability *= np.prod(pairwise_weights[i_upper, j_upper])  # Multiply all pairwise weights\n",
    "    \n",
    "    return probability"
   ]
  },
  {
   "cell_type": "code",
   "execution_count": 78,
   "metadata": {},
   "outputs": [],
   "source": [
    "# Function to run global_probability with all possible state combinations (optimized)\n",
    "def run_global_probability_all_states_optimized(num_boxes, num_states, observation, relational_matrix):\n",
    "    # Generate all possible state combinations directly as a NumPy array\n",
    "    all_possible_states = np.array(list(product(range(num_states), repeat=num_boxes)))\n",
    "    results = []\n",
    "    \n",
    "    for states in all_possible_states:\n",
    "        # Pass states as a NumPy array directly\n",
    "        probability = global_probability_optimized(states, observation, relational_matrix)\n",
    "        results.append((states, probability))\n",
    "    \n",
    "    # Convert results to a DataFrame\n",
    "    df_results = pd.DataFrame(results, columns=[\"State Combination\", \"Global Probability\"])\n",
    "    \n",
    "    # Sort by global probability in descending order\n",
    "    df_results = df_results.sort_values(by=\"Global Probability\", ascending=False).reset_index(drop=True)\n",
    "    \n",
    "    return df_results"
   ]
  },
  {
   "cell_type": "code",
   "execution_count": 79,
   "metadata": {},
   "outputs": [
    {
     "name": "stdout",
     "output_type": "stream",
     "text": [
      "   State Combination  Global Probability\n",
      "0          [2, 2, 2]            0.035778\n",
      "1          [3, 3, 3]            0.021849\n",
      "2          [2, 1, 2]            0.021523\n",
      "3          [2, 1, 1]            0.015698\n",
      "4          [1, 1, 1]            0.011488\n",
      "..               ...                 ...\n",
      "59         [3, 2, 2]            0.000041\n",
      "60         [3, 3, 2]            0.000039\n",
      "61         [2, 2, 3]            0.000037\n",
      "62         [2, 3, 3]            0.000034\n",
      "63         [3, 2, 3]            0.000031\n",
      "\n",
      "[64 rows x 2 columns]\n"
     ]
    }
   ],
   "source": [
    "# Run global_probability for all possible state combinations and get the sorted results\n",
    "df_all_states_results = run_global_probability_all_states_optimized(\n",
    "    num_boxes=num_boxes,\n",
    "    num_states=num_states,\n",
    "    observation=observation,\n",
    "    relational_matrix=relational_matrix\n",
    ")\n",
    "\n",
    "# Display the DataFrame with state combinations and global probability values\n",
    "print(df_all_states_results)"
   ]
  },
  {
   "cell_type": "code",
   "execution_count": 81,
   "metadata": {},
   "outputs": [
    {
     "name": "stdout",
     "output_type": "stream",
     "text": [
      "  Optimized States  Minimized Global Energy  Count\n",
      "0        (2, 2, 2)                 3.330433     86\n",
      "1        (3, 3, 3)                 3.823622     14\n"
     ]
    }
   ],
   "source": [
    "# Run the simulation and get the ordered results\n",
    "df_ordered_results = run_simulated_annealing_multiple_times_optimized(\n",
    "    n_runs=n_runs,\n",
    "    num_boxes=num_boxes,\n",
    "    num_states=num_states,\n",
    "    observation=observation,\n",
    "    relational_matrix=relational_matrix\n",
    ")\n",
    "\n",
    "print(df_ordered_results)"
   ]
  },
  {
   "cell_type": "markdown",
   "metadata": {},
   "source": [
    "🎉🎉🎉🎉🎉🎉🎉🎉🎉🎉🎉🎉🎉🎉🎉🎉🎉🎉🎉🎉"
   ]
  }
 ],
 "metadata": {
  "kernelspec": {
   "display_name": ".venv",
   "language": "python",
   "name": "python3"
  },
  "language_info": {
   "codemirror_mode": {
    "name": "ipython",
    "version": 3
   },
   "file_extension": ".py",
   "mimetype": "text/x-python",
   "name": "python",
   "nbconvert_exporter": "python",
   "pygments_lexer": "ipython3",
   "version": "3.12.5"
  }
 },
 "nbformat": 4,
 "nbformat_minor": 2
}
