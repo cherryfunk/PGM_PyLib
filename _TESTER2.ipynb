{
 "cells": [
  {
   "cell_type": "code",
   "execution_count": 18,
   "metadata": {},
   "outputs": [],
   "source": [
    "import numpy as np\n",
    "from PGM_PyLib.MRF import RMRFwO as mrf"
   ]
  },
  {
   "cell_type": "code",
   "execution_count": 19,
   "metadata": {},
   "outputs": [
    {
     "name": "stdout",
     "output_type": "stream",
     "text": [
      "Initial RMRF\n",
      " [0 0 0]\n",
      "\n",
      "Observation\n",
      " [[0.2  0.5  0.2  0.1 ]\n",
      " [0.4  0.1  0.3  0.2 ]\n",
      " [0.25 0.25 0.25 0.25]]\n"
     ]
    }
   ],
   "source": [
    "# Define the states (representing \"tree\", \"glass\", \"car\", and \"cup\")\n",
    "s = [0, 1, 2, 3]  # States corresponding to [\"tree\", \"glass\", \"car\", \"cup\"]\n",
    "\n",
    "# Initialize the RMRF as a vector of length 3 (one component for each bounding box)\n",
    "r = np.zeros(3, dtype=int)  # Initial RMRF values (neutral state, \"tree\")\n",
    "print(\"Initial RMRF\\n\", r)\n",
    "\n",
    "# Observed bounding box probability distributions\n",
    "# 3 bounding boxes with probability distributions over the 4 states\n",
    "bounding_box_probabilities = np.array([\n",
    "    [0.2, 0.5, 0.2, 0.1],  # Probability distribution for bounding box 1\n",
    "    [0.4, 0.1, 0.3, 0.2],  # Probability distribution for bounding box 2\n",
    "    [0.25, 0.25, 0.25, 0.25]  # Probability distribution for bounding box 3 (uniform)\n",
    "])\n",
    "\n",
    "print(\"\\nObservation\\n\", bounding_box_probabilities)"
   ]
  },
  {
   "cell_type": "code",
   "execution_count": 20,
   "metadata": {},
   "outputs": [
    {
     "name": "stdout",
     "output_type": "stream",
     "text": [
      "\n",
      "Relational Probability Matrix (0-based indexing):\n",
      "[[1.         0.59983551 0.8504227  0.49961806]\n",
      " [0.59983551 1.         0.42290321 0.7223121 ]\n",
      " [0.8504227  0.42290321 1.         0.81972281]\n",
      " [0.49961806 0.7223121  0.81972281 1.        ]]\n"
     ]
    }
   ],
   "source": [
    "# Generate the 4x4 relational probability matrix (for the 4 states)\n",
    "def generate_symmetric_matrix(n):\n",
    "    \"\"\"Generate an n x n symmetric matrix for 0-based indexing.\"\"\"\n",
    "    mat = np.random.rand(n, n)  # Generate random values\n",
    "    mat = (mat + mat.T) / 2  # Make the matrix symmetric\n",
    "    np.fill_diagonal(mat, 1)  # Fill the diagonal with 1s for self-relations\n",
    "    return mat\n",
    "\n",
    "# Relational probability matrix for the four states\n",
    "relational_probabilities = generate_symmetric_matrix(4)\n",
    "print(\"\\nRelational Probability Matrix (0-based indexing):\")\n",
    "print(relational_probabilities)"
   ]
  },
  {
   "cell_type": "code",
   "execution_count": 21,
   "metadata": {},
   "outputs": [],
   "source": [
    "# Define psi and Uf functions\n",
    "def psi(state_i, state_j):\n",
    "    \"\"\"\n",
    "    Return the probability of transitioning from state_i to state_j\n",
    "    based on the relational probability matrix (0-based indexing).\n",
    "    \"\"\"\n",
    "    return relational_probabilities[state_i, state_j]\n",
    "\n",
    "def Uf(rmrf, observation, row, col):\n",
    "    \"\"\"\n",
    "    Local energy function for a cell at position (row, col).\n",
    "    \n",
    "    It calculates the energy based on the current state of the cell\n",
    "    and its neighbors, using the psi function and observation data.\n",
    "    \n",
    "    Parameters:\n",
    "    - rmrf: 2D numpy array, current RMRF matrix (states should be 0-based)\n",
    "    - observation: bounding box probability distributions\n",
    "    - row: int, row index of the cell\n",
    "    - col: int, column index of the cell\n",
    "\n",
    "    Returns:\n",
    "    - float, the calculated energy for the cell at (row, col)\n",
    "    \"\"\"\n",
    "    current_state = rmrf[row, col]  # The state is 0-based\n",
    "    energy = 0.0\n",
    "\n",
    "    # Use observation data (bounding box probabilities)\n",
    "    # Assuming bounding boxes are mapped to row/col based on some external logic\n",
    "    # For simplicity, we'll assume the observation influences the cell's state\n",
    "    if row < len(observation):\n",
    "        obs_prob = observation[row][current_state]  # Probability for the current state\n",
    "        energy -= np.log(obs_prob)  # Factor in observation likelihood\n",
    "    \n",
    "    # Define the neighbors (assuming a 4-neighbor grid)\n",
    "    neighbors = [(row-1, col), (row+1, col), (row, col-1), (row, col+1)]\n",
    "    \n",
    "    for n_row, n_col in neighbors:\n",
    "        if 0 <= n_row < rmrf.shape[0] and 0 <= n_col < rmrf.shape[1]:\n",
    "            neighbor_state = rmrf[n_row, n_col]\n",
    "            prob = psi(current_state, neighbor_state)  # Access relational probabilities\n",
    "            energy -= np.log(prob)  # Energy is -log(psi)\n",
    "    \n",
    "    return energy"
   ]
  },
  {
   "cell_type": "code",
   "execution_count": 22,
   "metadata": {},
   "outputs": [],
   "source": [
    "# Potential function (pairwise potentials)\n",
    "def psi(state_i, state_j):\n",
    "    \"\"\"\n",
    "    Return the probability of transitioning from state_i to state_j\n",
    "    based on the relational probability matrix.\n",
    "    \"\"\"\n",
    "    return relational_probabilities[state_i, state_j]  # Using global matrix\n",
    "\n",
    "# Local energy function (Uf) to be passed to the inference method\n",
    "def Uf(rmrf, observation, row, col):\n",
    "    \"\"\"\n",
    "    Local energy function for a cell at position (row, col).\n",
    "    \n",
    "    It calculates the energy based on the current state of the cell\n",
    "    and its neighbors, using the psi function.\n",
    "    \n",
    "    Parameters:\n",
    "    - rmrf: 2D numpy array, current RMRF matrix (states should be 0-based)\n",
    "    - observation: observation object (optional, not used here)\n",
    "    - row: int, row index of the cell\n",
    "    - col: int, column index of the cell\n",
    "\n",
    "    Returns:\n",
    "    - float, the calculated energy for the cell at (row, col)\n",
    "    \"\"\"\n",
    "    current_state = rmrf[row, col]  # The state is 0-based\n",
    "    energy = 0.0\n",
    "    \n",
    "    # Define the neighbors (assuming a 4-neighbor grid)\n",
    "    neighbors = [(row-1, col), (row+1, col), (row, col-1), (row, col+1)]\n",
    "    \n",
    "    for n_row, n_col in neighbors:\n",
    "        if 0 <= n_row < rmrf.shape[0] and 0 <= n_col < rmrf.shape[1]:\n",
    "            neighbor_state = rmrf[n_row, n_col]\n",
    "            prob = psi(current_state, neighbor_state)  # Accessing psi using global matrix\n",
    "            energy -= np.log(prob)  # Energy is -log(psi)\n",
    "    \n",
    "    return energy"
   ]
  },
  {
   "cell_type": "code",
   "execution_count": 23,
   "metadata": {},
   "outputs": [
    {
     "ename": "NameError",
     "evalue": "Error: rmrf has to be a numpy matrix of shape (x,y)",
     "output_type": "error",
     "traceback": [
      "\u001b[0;31m---------------------------------------------------------------------------\u001b[0m",
      "\u001b[0;31mNameError\u001b[0m                                 Traceback (most recent call last)",
      "Cell \u001b[0;32mIn[23], line 3\u001b[0m\n\u001b[1;32m      1\u001b[0m \u001b[38;5;66;03m# Create an instance of RMRFwO and run inference\u001b[39;00m\n\u001b[1;32m      2\u001b[0m \u001b[38;5;66;03m# The states are [0, 1, 2, 3] corresponding to the object classification classes\u001b[39;00m\n\u001b[0;32m----> 3\u001b[0m mr \u001b[38;5;241m=\u001b[39m \u001b[43mmrf\u001b[49m\u001b[43m(\u001b[49m\u001b[43ms\u001b[49m\u001b[43m,\u001b[49m\u001b[43m \u001b[49m\u001b[43mr\u001b[49m\u001b[43m,\u001b[49m\u001b[43m \u001b[49m\u001b[43mbounding_box_probabilities\u001b[49m\u001b[43m)\u001b[49m  \u001b[38;5;66;03m# Use the bounding box probabilities as the observation\u001b[39;00m\n\u001b[1;32m      5\u001b[0m \u001b[38;5;66;03m# Run inference using the updated Uf function\u001b[39;00m\n\u001b[1;32m      6\u001b[0m result \u001b[38;5;241m=\u001b[39m mr\u001b[38;5;241m.\u001b[39minference(Uf\u001b[38;5;241m=\u001b[39mUf, maxIterations\u001b[38;5;241m=\u001b[39m\u001b[38;5;241m100\u001b[39m, Temp\u001b[38;5;241m=\u001b[39m\u001b[38;5;241m1.0\u001b[39m, tempReduction\u001b[38;5;241m=\u001b[39m\u001b[38;5;241m1.0\u001b[39m, optimal\u001b[38;5;241m=\u001b[39m\u001b[38;5;124m\"\u001b[39m\u001b[38;5;124mMAP\u001b[39m\u001b[38;5;124m\"\u001b[39m)\n",
      "File \u001b[0;32m~/Applications/Repos/PGM_PyLib/PGM_PyLib/MRF.py:365\u001b[0m, in \u001b[0;36mRMRFwO.__init__\u001b[0;34m(self, states, rmrf, observation, order, potencials)\u001b[0m\n\u001b[1;32m    363\u001b[0m \u001b[38;5;28mself\u001b[39m\u001b[38;5;241m.\u001b[39mshrmrf \u001b[38;5;241m=\u001b[39m np\u001b[38;5;241m.\u001b[39mshape(rmrf)\n\u001b[1;32m    364\u001b[0m \u001b[38;5;28;01mif\u001b[39;00m(\u001b[38;5;28mlen\u001b[39m(\u001b[38;5;28mself\u001b[39m\u001b[38;5;241m.\u001b[39mshrmrf) \u001b[38;5;241m!=\u001b[39m \u001b[38;5;241m2\u001b[39m):\n\u001b[0;32m--> 365\u001b[0m \t\u001b[38;5;28;01mraise\u001b[39;00m \u001b[38;5;167;01mNameError\u001b[39;00m(\u001b[38;5;124m\"\u001b[39m\u001b[38;5;124mError: rmrf has to be a numpy matrix of shape (x,y)\u001b[39m\u001b[38;5;124m\"\u001b[39m)\n\u001b[1;32m    366\u001b[0m \u001b[38;5;28mself\u001b[39m\u001b[38;5;241m.\u001b[39mrmrf \u001b[38;5;241m=\u001b[39m rmrf\u001b[38;5;241m.\u001b[39mcopy()\n\u001b[1;32m    367\u001b[0m \u001b[38;5;28mself\u001b[39m\u001b[38;5;241m.\u001b[39mshobservation \u001b[38;5;241m=\u001b[39m np\u001b[38;5;241m.\u001b[39mshape(observation)\n",
      "\u001b[0;31mNameError\u001b[0m: Error: rmrf has to be a numpy matrix of shape (x,y)"
     ]
    }
   ],
   "source": [
    "# Create an instance of RMRFwO and run inference\n",
    "# The states are [0, 1, 2, 3] corresponding to the object classification classes\n",
    "mr = mrf(s, r, bounding_box_probabilities)  # Use the bounding box probabilities as the observation\n",
    "\n",
    "# Run inference using the updated Uf function\n",
    "result = mr.inference(Uf=Uf, maxIterations=100, Temp=1.0, tempReduction=1.0, optimal=\"MAP\")\n",
    "\n",
    "print(\"\\nFinal RMRF after inference:\")\n",
    "print(result)"
   ]
  }
 ],
 "metadata": {
  "kernelspec": {
   "display_name": ".venv",
   "language": "python",
   "name": "python3"
  },
  "language_info": {
   "codemirror_mode": {
    "name": "ipython",
    "version": 3
   },
   "file_extension": ".py",
   "mimetype": "text/x-python",
   "name": "python",
   "nbconvert_exporter": "python",
   "pygments_lexer": "ipython3",
   "version": "3.12.5"
  }
 },
 "nbformat": 4,
 "nbformat_minor": 2
}
